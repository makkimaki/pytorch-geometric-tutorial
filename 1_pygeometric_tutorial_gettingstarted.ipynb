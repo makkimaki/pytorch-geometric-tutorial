{
  "nbformat": 4,
  "nbformat_minor": 0,
  "metadata": {
    "colab": {
      "provenance": [],
      "authorship_tag": "ABX9TyPYzPZckeovOSkIaTxNQ383",
      "include_colab_link": true
    },
    "kernelspec": {
      "name": "python3",
      "display_name": "Python 3"
    },
    "language_info": {
      "name": "python"
    }
  },
  "cells": [
    {
      "cell_type": "markdown",
      "metadata": {
        "id": "view-in-github",
        "colab_type": "text"
      },
      "source": [
        "<a href=\"https://colab.research.google.com/github/makkimaki/pytorch-geometric-tutorial/blob/main/1_pygeometric_tutorial_gettingstarted.ipynb\" target=\"_parent\"><img src=\"https://colab.research.google.com/assets/colab-badge.svg\" alt=\"Open In Colab\"/></a>"
      ]
    },
    {
      "cell_type": "markdown",
      "source": [
        "# PyTorch Geometricのチュートリアル写経"
      ],
      "metadata": {
        "id": "DHUhrvApUnDt"
      }
    },
    {
      "cell_type": "code",
      "source": [
        "!pip install torch_geometric"
      ],
      "metadata": {
        "colab": {
          "base_uri": "https://localhost:8080/"
        },
        "id": "foqVbFeSUxdk",
        "outputId": "c4824c93-7f18-476d-fc6a-a0b76e0ff291"
      },
      "execution_count": 3,
      "outputs": [
        {
          "output_type": "stream",
          "name": "stdout",
          "text": [
            "Collecting torch_geometric\n",
            "  Downloading torch_geometric-2.5.3-py3-none-any.whl (1.1 MB)\n",
            "\u001b[2K     \u001b[90m━━━━━━━━━━━━━━━━━━━━━━━━━━━━━━━━━━━━━━━━\u001b[0m \u001b[32m1.1/1.1 MB\u001b[0m \u001b[31m8.4 MB/s\u001b[0m eta \u001b[36m0:00:00\u001b[0m\n",
            "\u001b[?25hRequirement already satisfied: tqdm in /usr/local/lib/python3.10/dist-packages (from torch_geometric) (4.66.4)\n",
            "Requirement already satisfied: numpy in /usr/local/lib/python3.10/dist-packages (from torch_geometric) (1.25.2)\n",
            "Requirement already satisfied: scipy in /usr/local/lib/python3.10/dist-packages (from torch_geometric) (1.11.4)\n",
            "Requirement already satisfied: fsspec in /usr/local/lib/python3.10/dist-packages (from torch_geometric) (2023.6.0)\n",
            "Requirement already satisfied: jinja2 in /usr/local/lib/python3.10/dist-packages (from torch_geometric) (3.1.4)\n",
            "Requirement already satisfied: aiohttp in /usr/local/lib/python3.10/dist-packages (from torch_geometric) (3.9.5)\n",
            "Requirement already satisfied: requests in /usr/local/lib/python3.10/dist-packages (from torch_geometric) (2.31.0)\n",
            "Requirement already satisfied: pyparsing in /usr/local/lib/python3.10/dist-packages (from torch_geometric) (3.1.2)\n",
            "Requirement already satisfied: scikit-learn in /usr/local/lib/python3.10/dist-packages (from torch_geometric) (1.2.2)\n",
            "Requirement already satisfied: psutil>=5.8.0 in /usr/local/lib/python3.10/dist-packages (from torch_geometric) (5.9.5)\n",
            "Requirement already satisfied: aiosignal>=1.1.2 in /usr/local/lib/python3.10/dist-packages (from aiohttp->torch_geometric) (1.3.1)\n",
            "Requirement already satisfied: attrs>=17.3.0 in /usr/local/lib/python3.10/dist-packages (from aiohttp->torch_geometric) (23.2.0)\n",
            "Requirement already satisfied: frozenlist>=1.1.1 in /usr/local/lib/python3.10/dist-packages (from aiohttp->torch_geometric) (1.4.1)\n",
            "Requirement already satisfied: multidict<7.0,>=4.5 in /usr/local/lib/python3.10/dist-packages (from aiohttp->torch_geometric) (6.0.5)\n",
            "Requirement already satisfied: yarl<2.0,>=1.0 in /usr/local/lib/python3.10/dist-packages (from aiohttp->torch_geometric) (1.9.4)\n",
            "Requirement already satisfied: async-timeout<5.0,>=4.0 in /usr/local/lib/python3.10/dist-packages (from aiohttp->torch_geometric) (4.0.3)\n",
            "Requirement already satisfied: MarkupSafe>=2.0 in /usr/local/lib/python3.10/dist-packages (from jinja2->torch_geometric) (2.1.5)\n",
            "Requirement already satisfied: charset-normalizer<4,>=2 in /usr/local/lib/python3.10/dist-packages (from requests->torch_geometric) (3.3.2)\n",
            "Requirement already satisfied: idna<4,>=2.5 in /usr/local/lib/python3.10/dist-packages (from requests->torch_geometric) (3.7)\n",
            "Requirement already satisfied: urllib3<3,>=1.21.1 in /usr/local/lib/python3.10/dist-packages (from requests->torch_geometric) (2.0.7)\n",
            "Requirement already satisfied: certifi>=2017.4.17 in /usr/local/lib/python3.10/dist-packages (from requests->torch_geometric) (2024.2.2)\n",
            "Requirement already satisfied: joblib>=1.1.1 in /usr/local/lib/python3.10/dist-packages (from scikit-learn->torch_geometric) (1.4.2)\n",
            "Requirement already satisfied: threadpoolctl>=2.0.0 in /usr/local/lib/python3.10/dist-packages (from scikit-learn->torch_geometric) (3.5.0)\n",
            "Installing collected packages: torch_geometric\n",
            "Successfully installed torch_geometric-2.5.3\n"
          ]
        }
      ]
    },
    {
      "cell_type": "code",
      "execution_count": 14,
      "metadata": {
        "colab": {
          "base_uri": "https://localhost:8080/"
        },
        "id": "U8gVqQKMUSnk",
        "outputId": "06929fb7-bb30-4fd1-e2a7-2351d2f923e1"
      },
      "outputs": [
        {
          "output_type": "stream",
          "name": "stdout",
          "text": [
            "torch.__version__='2.2.1+cu121'\n",
            "torch_geometric.__version__='2.5.3'\n",
            "nx.__version__='3.3'\n"
          ]
        }
      ],
      "source": [
        "import torch\n",
        "import torch_geometric\n",
        "import networkx as nx\n",
        "from torch_geometric.data import Data\n",
        "import matplotlib.pyplot as plt\n",
        "\n",
        "print(f\"{torch.__version__=}\")\n",
        "print(f\"{torch_geometric.__version__=}\")\n",
        "print(f\"{nx.__version__=}\")"
      ]
    },
    {
      "cell_type": "code",
      "source": [
        "edge_index = torch.tensor([[0, 1],\n",
        "                            [1, 0],\n",
        "                            [1, 2],\n",
        "                            [2, 1]], dtype=torch.long)\n",
        "x = torch.tensor([[-1], [0], [1]], dtype=torch.float)\n",
        "\n",
        "data = Data(x=x, edge_index=edge_index.t().contiguous())\n",
        "print(type(data))\n",
        "print(data)\n",
        "\n",
        "plt.figure(figsize=(3, 3))\n",
        "g = torch_geometric.utils.to_networkx(data, to_undirected=True)\n",
        "nx.draw(g)"
      ],
      "metadata": {
        "colab": {
          "base_uri": "https://localhost:8080/",
          "height": 372
        },
        "id": "5yujoT0KUlAg",
        "outputId": "310fcdc1-f353-4aaf-c5a0-d96b52fb31a3"
      },
      "execution_count": 27,
      "outputs": [
        {
          "output_type": "stream",
          "name": "stdout",
          "text": [
            "<class 'torch_geometric.data.data.Data'>\n",
            "Data(x=[3, 1], edge_index=[2, 4])\n"
          ]
        },
        {
          "output_type": "display_data",
          "data": {
            "text/plain": [
              "<Figure size 300x300 with 1 Axes>"
            ],
            "image/png": "[encoded data removed]"
          },
          "metadata": {}
        }
      ]
    },
    {
      "cell_type": "code",
      "source": [
        "#\n",
        "data.validate(raise_on_error=True)"
      ],
      "metadata": {
        "colab": {
          "base_uri": "https://localhost:8080/"
        },
        "id": "m9CV8_tnVlFK",
        "outputId": "a8cd7465-bb52-4c64-8a37-4d3137615aad"
      },
      "execution_count": 17,
      "outputs": [
        {
          "output_type": "execute_result",
          "data": {
            "text/plain": [
              "True"
            ]
          },
          "metadata": {},
          "execution_count": 17
        }
      ]
    },
    {
      "cell_type": "markdown",
      "source": [
        "`Data` attributeを使うと色々な機能を利用できる"
      ],
      "metadata": {
        "id": "6c5O5TUYY0RV"
      }
    },
    {
      "cell_type": "code",
      "source": [
        "print(data.keys())"
      ],
      "metadata": {
        "colab": {
          "base_uri": "https://localhost:8080/"
        },
        "id": "Pr66glpdYIVX",
        "outputId": "cf429945-e039-4c74-c5c1-e3dd57514ba0"
      },
      "execution_count": 18,
      "outputs": [
        {
          "output_type": "stream",
          "name": "stdout",
          "text": [
            "['edge_index', 'x']\n"
          ]
        }
      ]
    },
    {
      "cell_type": "code",
      "source": [
        "print(data[\"x\"])"
      ],
      "metadata": {
        "colab": {
          "base_uri": "https://localhost:8080/"
        },
        "id": "J-gAtYPPY6dK",
        "outputId": "cd225af4-19d3-4189-8646-385331def4fb"
      },
      "execution_count": 19,
      "outputs": [
        {
          "output_type": "stream",
          "name": "stdout",
          "text": [
            "tensor([[-1.],\n",
            "        [ 0.],\n",
            "        [ 1.]])\n"
          ]
        }
      ]
    },
    {
      "cell_type": "code",
      "source": [
        "for key, item in data:\n",
        "    print(f\"{key} found in data\")"
      ],
      "metadata": {
        "colab": {
          "base_uri": "https://localhost:8080/"
        },
        "id": "EjsOc2BwY7l-",
        "outputId": "6d691fce-230f-4148-904c-bf2b4b99caf6"
      },
      "execution_count": 20,
      "outputs": [
        {
          "output_type": "stream",
          "name": "stdout",
          "text": [
            "x found in data\n",
            "edge_index found in data\n"
          ]
        }
      ]
    },
    {
      "cell_type": "code",
      "source": [
        "print(data.num_nodes)\n",
        "print(data.num_edges)\n",
        "print(data.num_node_features)\n",
        "print(data.has_isolated_nodes())\n",
        "print(data.has_self_loops())\n",
        "print(data.is_directed())\n"
      ],
      "metadata": {
        "colab": {
          "base_uri": "https://localhost:8080/"
        },
        "id": "VBudpvhHZBU6",
        "outputId": "b099d9e6-6418-4e1e-92bf-53b1b78b865a"
      },
      "execution_count": 21,
      "outputs": [
        {
          "output_type": "stream",
          "name": "stdout",
          "text": [
            "3\n",
            "4\n",
            "1\n",
            "False\n",
            "False\n",
            "False\n"
          ]
        }
      ]
    },
    {
      "cell_type": "markdown",
      "source": [
        "## 共通ベンチマークデータセット Common Benchmark Datasets\n",
        "- Planetoid datasets (Cora, Citeseer, Pubmed)\n",
        "- TUDatasets\n",
        "- QM7, QM9 datasets\n",
        "- FAUST, ModelNet10/40, ShapeNet (3D mesh/point cloud datasets)"
      ],
      "metadata": {
        "id": "fU9L62XnZTj2"
      }
    },
    {
      "cell_type": "code",
      "source": [
        "from torch_geometric.datasets import TUDataset\n",
        "\n",
        "dataset = TUDataset(root=\"/tmp/ENZYMES\", name=\"ENZYMES\")\n",
        "print(dataset)\n",
        "print(len(dataset))\n",
        "print(dataset.num_classes)\n",
        "print(dataset.num_node_features)"
      ],
      "metadata": {
        "colab": {
          "base_uri": "https://localhost:8080/"
        },
        "id": "nYuiR3oHZPz3",
        "outputId": "b313eff9-aa5f-4013-a892-149ad38a15c7"
      },
      "execution_count": 24,
      "outputs": [
        {
          "output_type": "stream",
          "name": "stdout",
          "text": [
            "ENZYMES(600)\n",
            "600\n",
            "6\n",
            "3\n"
          ]
        }
      ]
    },
    {
      "cell_type": "code",
      "source": [
        "# datasetの最初のグラフは37ノードあり、各ノードは３つのfeaturesを持つ。168/2 =84この無向エッジがあり、グラフは１つのクラスに属している\n",
        "data = dataset[0]\n",
        "print(data)\n",
        "print(type(data))\n",
        "print(data.is_undirected())\n",
        "\n",
        "plt.figure(figsize=(3, 3))\n",
        "g = torch_geometric.utils.to_networkx(data, to_undirected=True)\n",
        "nx.draw(g)"
      ],
      "metadata": {
        "colab": {
          "base_uri": "https://localhost:8080/",
          "height": 389
        },
        "id": "keeiLXOydgqf",
        "outputId": "3fef29af-a2c0-451f-a123-1f30a78d7c65"
      },
      "execution_count": 29,
      "outputs": [
        {
          "output_type": "stream",
          "name": "stdout",
          "text": [
            "Data(edge_index=[2, 168], x=[37, 3], y=[1])\n",
            "<class 'torch_geometric.data.data.Data'>\n",
            "True\n"
          ]
        },
        {
          "output_type": "display_data",
          "data": {
            "text/plain": [
              "<Figure size 300x300 with 1 Axes>"
            ],
            "image/png": "[encoded data removed]"
          },
          "metadata": {}
        }
      ]
    },
    {
      "cell_type": "code",
      "source": [
        "data = dataset[2]\n",
        "print(data)\n",
        "print(data.is_undirected())\n",
        "\n",
        "plt.figure(figsize=(3, 3))\n",
        "g = torch_geometric.utils.to_networkx(data, to_undirected=True)\n",
        "nx.draw(g)"
      ],
      "metadata": {
        "colab": {
          "base_uri": "https://localhost:8080/",
          "height": 372
        },
        "id": "llex0zB4dt1b",
        "outputId": "08496e45-8bda-4956-fbb5-355c5ea78dac"
      },
      "execution_count": 33,
      "outputs": [
        {
          "output_type": "stream",
          "name": "stdout",
          "text": [
            "Data(edge_index=[2, 92], x=[25, 3], y=[1])\n",
            "True\n"
          ]
        },
        {
          "output_type": "display_data",
          "data": {
            "text/plain": [
              "<Figure size 300x300 with 1 Axes>"
            ],
            "image/png": "[encoded data removed]"
          },
          "metadata": {}
        }
      ]
    },
    {
      "cell_type": "code",
      "source": [
        "train_dataset = dataset[:540]\n",
        "test_dataset = dataset[540:]\n",
        "\n",
        "# dataset = dataset.shuffle()"
      ],
      "metadata": {
        "id": "uJ_JFUYreXYu"
      },
      "execution_count": 31,
      "outputs": []
    },
    {
      "cell_type": "markdown",
      "source": [
        "## ミニバッチ [リンク](https://pytorch-geometric.readthedocs.io/en/latest/get_started/introduction.html#mini-batches)\n",
        "- NNは通常、ミニバッチ形式で学習される\n",
        "- ミニバッチの構成要素は以下の通り\n",
        "    - 疎なブロック対角隣接行列(`edge_index`で定義)\n",
        "    - feature, target行列の連結をノード次元で実施\n"
      ],
      "metadata": {
        "id": "E9VecIushVe4"
      }
    },
    {
      "cell_type": "code",
      "source": [
        "from torch_geometric.datasets import TUDataset\n",
        "from torch_geometric.loader import DataLoader\n",
        "\n",
        "dataset = TUDataset(root=\"/tmp/ENZYMES\", name=\"ENZYMES\", use_node_attr=True)\n",
        "loader = DataLoader(dataset, batch_size=32, shuffle=True)\n",
        "\n",
        "for batch in loader:\n",
        "    print(batch)\n",
        "    print(batch.num_graphs)"
      ],
      "metadata": {
        "colab": {
          "base_uri": "https://localhost:8080/"
        },
        "id": "m_w1Ectxfew-",
        "outputId": "2ae1f510-a6f5-4fb2-cfce-be50f6358cba"
      },
      "execution_count": 34,
      "outputs": [
        {
          "output_type": "stream",
          "name": "stdout",
          "text": [
            "DataBatch(edge_index=[2, 3886], x=[970, 21], y=[32], batch=[970], ptr=[33])\n",
            "32\n",
            "DataBatch(edge_index=[2, 3596], x=[948, 21], y=[32], batch=[948], ptr=[33])\n",
            "32\n",
            "DataBatch(edge_index=[2, 4556], x=[1178, 21], y=[32], batch=[1178], ptr=[33])\n",
            "32\n",
            "DataBatch(edge_index=[2, 4222], x=[1033, 21], y=[32], batch=[1033], ptr=[33])\n",
            "32\n",
            "DataBatch(edge_index=[2, 4242], x=[1084, 21], y=[32], batch=[1084], ptr=[33])\n",
            "32\n",
            "DataBatch(edge_index=[2, 4628], x=[1236, 21], y=[32], batch=[1236], ptr=[33])\n",
            "32\n",
            "DataBatch(edge_index=[2, 4168], x=[1135, 21], y=[32], batch=[1135], ptr=[33])\n",
            "32\n",
            "DataBatch(edge_index=[2, 3654], x=[924, 21], y=[32], batch=[924], ptr=[33])\n",
            "32\n",
            "DataBatch(edge_index=[2, 3936], x=[1117, 21], y=[32], batch=[1117], ptr=[33])\n",
            "32\n",
            "DataBatch(edge_index=[2, 3790], x=[998, 21], y=[32], batch=[998], ptr=[33])\n",
            "32\n",
            "DataBatch(edge_index=[2, 4016], x=[1045, 21], y=[32], batch=[1045], ptr=[33])\n",
            "32\n",
            "DataBatch(edge_index=[2, 3676], x=[949, 21], y=[32], batch=[949], ptr=[33])\n",
            "32\n",
            "DataBatch(edge_index=[2, 3526], x=[889, 21], y=[32], batch=[889], ptr=[33])\n",
            "32\n",
            "DataBatch(edge_index=[2, 4094], x=[1122, 21], y=[32], batch=[1122], ptr=[33])\n",
            "32\n",
            "DataBatch(edge_index=[2, 4024], x=[1047, 21], y=[32], batch=[1047], ptr=[33])\n",
            "32\n",
            "DataBatch(edge_index=[2, 3834], x=[957, 21], y=[32], batch=[957], ptr=[33])\n",
            "32\n",
            "DataBatch(edge_index=[2, 4110], x=[1152, 21], y=[32], batch=[1152], ptr=[33])\n",
            "32\n",
            "DataBatch(edge_index=[2, 4076], x=[1148, 21], y=[32], batch=[1148], ptr=[33])\n",
            "32\n",
            "DataBatch(edge_index=[2, 2530], x=[648, 21], y=[24], batch=[648], ptr=[25])\n",
            "24\n"
          ]
        }
      ]
    },
    {
      "cell_type": "markdown",
      "source": [
        "## Data Transforms\n",
        "- 画像なら`torchvision`を使う\n",
        "- PyGの場合は、`Data`オブジェクトを変換するために`torch_geometric.transforms.Compose`を使う\n",
        "    - `pre_transform`：ディスクに保存する前に実施\n",
        "    - `transform`：データセットのグラフにアクセスする前に実施\n",
        "\n",
        "例：ShapeNetデータセット（17000の3D shape point cloudsの各ポイントに16カテゴリから割り当て...?）"
      ],
      "metadata": {
        "id": "UASPYy_Ppo2A"
      }
    },
    {
      "cell_type": "code",
      "source": [
        "from torch_geometric.datasets import ShapeNet\n",
        "\n",
        "dataset = ShapeNet(root='/tmp/ShapeNet', categories=['Airplane'])\n",
        "\n",
        "dataset[0]"
      ],
      "metadata": {
        "colab": {
          "base_uri": "https://localhost:8080/"
        },
        "id": "EeBenuJBk0n8",
        "outputId": "b31f2d24-ba97-441b-abc0-28fe414bd438"
      },
      "execution_count": 36,
      "outputs": [
        {
          "output_type": "stream",
          "name": "stderr",
          "text": [
            "Downloading https://shapenet.cs.stanford.edu/media/shapenetcore_partanno_segmentation_benchmark_v0_normal.zip\n",
            "Extracting /tmp/ShapeNet/shapenetcore_partanno_segmentation_benchmark_v0_normal.zip\n",
            "Processing...\n",
            "Done!\n"
          ]
        },
        {
          "output_type": "execute_result",
          "data": {
            "text/plain": [
              "Data(x=[2518, 3], y=[2518], pos=[2518, 3], category=[1])"
            ]
          },
          "metadata": {},
          "execution_count": 36
        }
      ]
    },
    {
      "cell_type": "markdown",
      "source": [
        "point cloud datasetからグラフデータセットへ変換できる。この際、データ変換を通じてpoint cloudからnearest neighborグラフを生成する。\n",
        "- その他の変換は、`torch_geometric.transforms.`にある"
      ],
      "metadata": {
        "id": "XA4e1d85q5uD"
      }
    },
    {
      "cell_type": "code",
      "source": [
        "import torch_geometric.transforms as T\n",
        "from torch_geometric.datasets import ShapeNet\n",
        "\n",
        "dataset = ShapeNet(root=\"/tmp/ShapeNet\", categories=[\"Airplane\"], pre_transform=T.KNNGraph(k=6))\n",
        "\n",
        "dataset[0]"
      ],
      "metadata": {
        "colab": {
          "base_uri": "https://localhost:8080/"
        },
        "id": "zlg4gdAhqcOR",
        "outputId": "3ac34bb0-e1c8-4fb6-e8c7-704118cd1607"
      },
      "execution_count": 41,
      "outputs": [
        {
          "output_type": "execute_result",
          "data": {
            "text/plain": [
              "Data(x=[2518, 3], y=[2518], pos=[2518, 3], category=[1])"
            ]
          },
          "metadata": {},
          "execution_count": 41
        }
      ]
    },
    {
      "cell_type": "code",
      "source": [
        "import torch_geometric.transforms as T\n",
        "from torch_geometric.datasets import ShapeNet\n",
        "\n",
        "dataset = ShapeNet(root='/tmp/ShapeNet', categories=['Airplane'],\n",
        "                    pre_transform=T.KNNGraph(k=6),\n",
        "                    transform=T.RandomJitter(0.01))\n",
        "\n",
        "dataset[0]"
      ],
      "metadata": {
        "id": "uhiJQOk1rZ6r"
      },
      "execution_count": null,
      "outputs": []
    },
    {
      "cell_type": "markdown",
      "source": [
        "## Learning methods on Graphs\n",
        "- GNN実装\n",
        "- Cora citationデータセット"
      ],
      "metadata": {
        "id": "g7D1IDmPtBh6"
      }
    },
    {
      "cell_type": "code",
      "source": [
        "from torch_geometric.datasets import Planetoid\n",
        "\n",
        "dataset = Planetoid(root='/tmp/Cora', name='Cora')"
      ],
      "metadata": {
        "colab": {
          "base_uri": "https://localhost:8080/"
        },
        "id": "TDZCXenvtRjw",
        "outputId": "65f22ed5-85a2-4fee-f38c-887f1cd49707"
      },
      "execution_count": 43,
      "outputs": [
        {
          "output_type": "stream",
          "name": "stderr",
          "text": [
            "Downloading https://github.com/kimiyoung/planetoid/raw/master/data/ind.cora.x\n",
            "Downloading https://github.com/kimiyoung/planetoid/raw/master/data/ind.cora.tx\n",
            "Downloading https://github.com/kimiyoung/planetoid/raw/master/data/ind.cora.allx\n",
            "Downloading https://github.com/kimiyoung/planetoid/raw/master/data/ind.cora.y\n",
            "Downloading https://github.com/kimiyoung/planetoid/raw/master/data/ind.cora.ty\n",
            "Downloading https://github.com/kimiyoung/planetoid/raw/master/data/ind.cora.ally\n",
            "Downloading https://github.com/kimiyoung/planetoid/raw/master/data/ind.cora.graph\n",
            "Downloading https://github.com/kimiyoung/planetoid/raw/master/data/ind.cora.test.index\n",
            "Processing...\n",
            "Done!\n"
          ]
        }
      ]
    },
    {
      "cell_type": "code",
      "source": [
        "import torch.nn.functional as F\n",
        "from torch_geometric.nn import GCNConv\n",
        "\n",
        "\n",
        "class GCN(torch.nn.Module):\n",
        "    def __init__(self):\n",
        "        super().__init__()\n",
        "        self.conv1 = GCNConv(dataset.num_node_features, 16)\n",
        "        self.conv2 = GCNConv(16, dataset.num_classes)\n",
        "\n",
        "    def forward(self, data):\n",
        "        x, edge_index = data.x, data.edge_index\n",
        "\n",
        "        x = self.conv1(x, edge_index)\n",
        "        x = F.relu(x)\n",
        "        x = F.dropout(x, training=self.training)\n",
        "        x = self.conv2(x, edge_index)\n",
        "\n",
        "        return F.log_softmax(x, dim=1)"
      ],
      "metadata": {
        "id": "wHFqCNtotSGT"
      },
      "execution_count": 44,
      "outputs": []
    },
    {
      "cell_type": "code",
      "source": [
        "device = torch.device(\"cuda\" if torch.cuda.is_available() else \"cpu\")\n",
        "model = GCN().to(device)\n",
        "data = dataset[0].to(device)\n",
        "optimizer = torch.optim.Adam(model.parameters(),\n",
        "                               lr=0.01,\n",
        "                               weight_decay=5e-4)\n",
        "epoch_list = []\n",
        "loss_list = []\n",
        "model.train()\n",
        "for epoch in range(200):\n",
        "    optimizer.zero_grad()\n",
        "    out = model(data)\n",
        "    loss = F.nll_loss(out[data.train_mask], data.y[data.train_mask])\n",
        "    loss.backward()\n",
        "    epoch_list.append(epoch)\n",
        "    loss_list.append(loss)\n",
        "    # print(f\"{epoch=}, {loss=}\")\n",
        "    optimizer.step()"
      ],
      "metadata": {
        "id": "I_w952PYt0Bl"
      },
      "execution_count": 48,
      "outputs": []
    },
    {
      "cell_type": "code",
      "source": [
        "loss_list = [x.detach() for x in loss_list]"
      ],
      "metadata": {
        "id": "1-tix10U2O5c"
      },
      "execution_count": 65,
      "outputs": []
    },
    {
      "cell_type": "code",
      "source": [
        "plt.figure(figsize=(6, 3))\n",
        "plt.plot(epoch_list, loss_list)\n",
        "plt.xlabel(\"epoch\")\n",
        "plt.ylabel(\"loss\")\n",
        "plt.show()"
      ],
      "metadata": {
        "colab": {
          "base_uri": "https://localhost:8080/",
          "height": 312
        },
        "id": "5ULCiUC81w6d",
        "outputId": "7680d446-26ba-4ca0-d190-580e151df8f9"
      },
      "execution_count": 68,
      "outputs": [
        {
          "output_type": "display_data",
          "data": {
            "text/plain": [
              "<Figure size 600x300 with 1 Axes>"
            ],
            "image/png": "[encoded data removed]"
          },
          "metadata": {}
        }
      ]
    },
    {
      "cell_type": "code",
      "source": [
        "model.eval()\n",
        "pred = model(data).argmax(dim=1)\n",
        "correct = (pred[data.test_mask] == data.y[data.test_mask]).sum()\n",
        "\n",
        "acc = int(correct) / int(data.test_mask.sum())\n",
        "print(f\"Accuracy: {acc:.4f}\")"
      ],
      "metadata": {
        "colab": {
          "base_uri": "https://localhost:8080/"
        },
        "id": "bVbA82iW1EM_",
        "outputId": "3db05ae9-7c12-4ab6-a030-2ca111d5f768"
      },
      "execution_count": 69,
      "outputs": [
        {
          "output_type": "stream",
          "name": "stdout",
          "text": [
            "Accuracy: 0.7980\n"
          ]
        }
      ]
    },
    {
      "cell_type": "code",
      "source": [],
      "metadata": {
        "id": "JWtYzvEz1VHT"
      },
      "execution_count": null,
      "outputs": []
    }
  ]
}